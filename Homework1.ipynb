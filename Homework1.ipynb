{
 "cells": [
  {
   "cell_type": "markdown",
   "metadata": {},
   "source": [
    "# 作业一：数据探索性分析与数据预处理\n",
    "\n",
    "**姓名**：徐恒达  \n",
    "**学号**：1120151811  \n",
    "**学院**：计算机学院  \n",
    "**年级**：本科大四  \n",
    "\n",
    "**GitHub**: <>"
   ]
  },
  {
   "cell_type": "markdown",
   "metadata": {},
   "source": [
    "# 目录\n",
    "\n",
    "### 1. 数据集1：Wine Reviews\n",
    "**1.1 数据摘要**  \n",
    "- 数据信息  \n",
    "- 缺失值统计  \n",
    "- 数值数据摘要  \n",
    "- 标称属性摘要  \n",
    "\n",
    "**1.2 数据可视化**  \n",
    "- 直方图与qq图  \n",
    "- 盒图  \n",
    "\n",
    "**1.3 处理缺失数据**  \n",
    "- 处理缺失标称数据  \n",
    "- 处理缺失数值数据  \n",
    "\n",
    "### 2. 数据集2：Wine Reviews\n",
    "**2.1 数据摘要**  \n",
    "- 数据信息  \n",
    "- 缺失值统计  \n",
    "- 数值数据摘要  \n",
    "- 标称属性摘要  \n",
    "\n",
    "**2.2 数据可视化**  \n",
    "- 直方图与qq图  \n",
    "- 盒图  "
   ]
  },
  {
   "cell_type": "code",
   "execution_count": null,
   "metadata": {},
   "outputs": [],
   "source": [
    "import numpy as np\n",
    "import pandas as pd\n",
    "import statsmodels.api as sm\n",
    "from matplotlib import pyplot as plt"
   ]
  },
  {
   "cell_type": "markdown",
   "metadata": {},
   "source": [
    "# 1. 数据集1：Wine Reviews\n",
    "\n",
    "数据集主页：<https://www.kaggle.com/zynicide/wine-reviews#winemag-data-130k-v2.csv>"
   ]
  },
  {
   "cell_type": "markdown",
   "metadata": {},
   "source": [
    "**加载数据**"
   ]
  },
  {
   "cell_type": "code",
   "execution_count": null,
   "metadata": {},
   "outputs": [],
   "source": [
    "df = pd.read_csv('winemag-data-130k-v2.csv')"
   ]
  },
  {
   "cell_type": "markdown",
   "metadata": {},
   "source": [
    "## 1.1 数据摘要\n",
    "\n",
    "包括“数据信息”、“缺失值统计”、“数值数据摘要”、“标称数据摘要”共4部分。"
   ]
  },
  {
   "cell_type": "markdown",
   "metadata": {},
   "source": [
    "### 数据信息\n",
    "\n",
    "数据集中共有14列，129971行。其中有3列是数值属性，11列是标称属性。"
   ]
  },
  {
   "cell_type": "code",
   "execution_count": null,
   "metadata": {},
   "outputs": [],
   "source": [
    "print('%d columns' % len(df.columns))\n",
    "print('%d rows' % len(df.index))\n",
    "print()\n",
    "print(df.dtypes.value_counts())"
   ]
  },
  {
   "cell_type": "markdown",
   "metadata": {},
   "source": [
    "数据集中的前5行展示如下。"
   ]
  },
  {
   "cell_type": "code",
   "execution_count": null,
   "metadata": {},
   "outputs": [],
   "source": [
    "df.head()"
   ]
  },
  {
   "cell_type": "markdown",
   "metadata": {},
   "source": [
    "### 缺失值统计\n",
    "\n",
    "统计每一列中的缺失值数量如下。"
   ]
  },
  {
   "cell_type": "code",
   "execution_count": null,
   "metadata": {},
   "outputs": [],
   "source": [
    "df.isna().sum()"
   ]
  },
  {
   "cell_type": "markdown",
   "metadata": {},
   "source": [
    "### 数值数据摘要\n",
    "\n",
    "数值属性列中，第一列是数据id列不于考虑，对于另外的两个数值属性`points`和`price`，统计它们的有效值数量，平均值，标准差，最小值，最大值，第1四分位点，中位数，第3四分位点信息如下。"
   ]
  },
  {
   "cell_type": "code",
   "execution_count": null,
   "metadata": {},
   "outputs": [],
   "source": [
    "df.describe()"
   ]
  },
  {
   "cell_type": "markdown",
   "metadata": {},
   "source": [
    "### 标称属性摘要\n",
    "\n",
    "定义`summary_column(col_name)`函数，统计标称属性`col_name`中不同值出现的频数和频率，并展示出现频率最高的前15个值。"
   ]
  },
  {
   "cell_type": "code",
   "execution_count": null,
   "metadata": {},
   "outputs": [],
   "source": [
    "def summary_column(col_name):\n",
    "    col = df[col_name].value_counts()\n",
    "    print('Colunm name:', col_name)\n",
    "    print('%d different values.' % len(col))\n",
    "    print()\n",
    "    col = df[col_name].value_counts()\n",
    "    col_df = col.to_frame()\n",
    "    col_df['frequency'] = col.apply(lambda x: x / len(col))\n",
    "    col_df.rename(columns={'designation': 'counts'}, inplace=True)\n",
    "    print(col_df.iloc[:15])\n",
    "    print('...')\n",
    "    plt.bar(np.arange(15), col.iloc[:15])\n",
    "    plt.title(col_name)\n",
    "    plt.show()"
   ]
  },
  {
   "cell_type": "markdown",
   "metadata": {},
   "source": [
    "统计**designation**列如下。"
   ]
  },
  {
   "cell_type": "code",
   "execution_count": null,
   "metadata": {
    "scrolled": false
   },
   "outputs": [],
   "source": [
    "summary_column('designation')"
   ]
  },
  {
   "cell_type": "markdown",
   "metadata": {},
   "source": [
    "统计**province**列如下。"
   ]
  },
  {
   "cell_type": "code",
   "execution_count": null,
   "metadata": {},
   "outputs": [],
   "source": [
    "summary_column('province')"
   ]
  },
  {
   "cell_type": "markdown",
   "metadata": {},
   "source": [
    "## 1.2 数据可视化\n",
    "\n",
    "包括“直方图与qq图”、“盒图”共2部分"
   ]
  },
  {
   "cell_type": "markdown",
   "metadata": {},
   "source": [
    "### 直方图与qq图\n",
    "\n",
    "定义函数`distrib(col_name)`，对指定数值属性列`distrib(col_name)`，首先展示其频率分布直方图，然后将其标准化为均值为0，方差为1的分布，与标准正态分布一起绘制qq图。"
   ]
  },
  {
   "cell_type": "code",
   "execution_count": null,
   "metadata": {},
   "outputs": [],
   "source": [
    "def distrib(col_name):\n",
    "    col = df[col_name].dropna()\n",
    "    plt.hist(col, 20)\n",
    "    plt.title(col_name)\n",
    "    plt.show()\n",
    "    \n",
    "    col = (col - col.mean()) / col.std()\n",
    "    fig = sm.qqplot(col, line='45')\n",
    "    plt.title('q-q plot')\n",
    "    plt.show()"
   ]
  },
  {
   "cell_type": "markdown",
   "metadata": {},
   "source": [
    "展示**points**列如下。从qq图中可以看出，**points**列中的数据近似满足正态分布。"
   ]
  },
  {
   "cell_type": "code",
   "execution_count": null,
   "metadata": {},
   "outputs": [],
   "source": [
    "distrib('points')"
   ]
  },
  {
   "cell_type": "markdown",
   "metadata": {},
   "source": [
    "展示**price**列如下。从qq图中可以看出，**price**列中的数据不满足正态分布。"
   ]
  },
  {
   "cell_type": "code",
   "execution_count": null,
   "metadata": {},
   "outputs": [],
   "source": [
    "distrib('price')"
   ]
  },
  {
   "cell_type": "markdown",
   "metadata": {},
   "source": [
    "### 盒图\n",
    "\n",
    "定义函数`boxplot(col_name)`来为指定列绘制盒图。"
   ]
  },
  {
   "cell_type": "code",
   "execution_count": null,
   "metadata": {},
   "outputs": [],
   "source": [
    "def boxplot(col_name):\n",
    "    fig, ax = plt.subplots(figsize=(5, 6))\n",
    "    ax.set_title(col_name)\n",
    "    ax.boxplot(df[col_name].dropna())\n",
    "    plt.show()"
   ]
  },
  {
   "cell_type": "markdown",
   "metadata": {},
   "source": [
    "为**points**列绘制盒图如下所示。"
   ]
  },
  {
   "cell_type": "code",
   "execution_count": null,
   "metadata": {},
   "outputs": [],
   "source": [
    "boxplot('points')"
   ]
  },
  {
   "cell_type": "markdown",
   "metadata": {},
   "source": [
    "为**price**列绘制盒图如下所示。从盒图中可以看出，**price**列中的数据偏向于较小的数值，数值越大，数据点越少。"
   ]
  },
  {
   "cell_type": "code",
   "execution_count": null,
   "metadata": {},
   "outputs": [],
   "source": [
    "boxplot('price')"
   ]
  },
  {
   "cell_type": "markdown",
   "metadata": {},
   "source": [
    "## 1.3 处理缺失数据\n",
    "\n",
    "包括“处理缺失标称数据”与“处理缺失数值数据”两部分。"
   ]
  },
  {
   "cell_type": "markdown",
   "metadata": {},
   "source": [
    "### 处理缺失标称数据\n",
    "\n",
    "定义函数`show_column(col)`来展示数据。"
   ]
  },
  {
   "cell_type": "code",
   "execution_count": null,
   "metadata": {},
   "outputs": [],
   "source": [
    "def show_column(col):\n",
    "    col = col.value_counts()\n",
    "    col_df = col.to_frame()\n",
    "    col_df['frequency'] = col.apply(lambda x: x / len(col))\n",
    "    col_df.rename(columns={'designation': 'counts'}, inplace=True)\n",
    "    print(col_df.iloc[:15])\n",
    "    print('...')\n",
    "    plt.bar(np.arange(15), col.iloc[:15])\n",
    "    plt.title(col_name)\n",
    "    plt.show()"
   ]
  },
  {
   "cell_type": "markdown",
   "metadata": {},
   "source": [
    "**designation**列中共有129971个数据，其中37465个数据为空数据。"
   ]
  },
  {
   "cell_type": "code",
   "execution_count": null,
   "metadata": {},
   "outputs": [],
   "source": [
    "col_name = 'designation'\n",
    "col = df[col_name]\n",
    "\n",
    "print('colomn:', col_name)\n",
    "print('total:', len(col))\n",
    "print('nan:', col.isna().sum())"
   ]
  },
  {
   "cell_type": "markdown",
   "metadata": {},
   "source": [
    "删除**designation**列中的空数据，结果统计如下。"
   ]
  },
  {
   "cell_type": "code",
   "execution_count": null,
   "metadata": {},
   "outputs": [],
   "source": [
    "col_1 = col.dropna()\n",
    "show_column(col_1)"
   ]
  },
  {
   "cell_type": "markdown",
   "metadata": {},
   "source": [
    "将**designation**列中的空数据替换为出现频率最高的数据，结果统计如下。"
   ]
  },
  {
   "cell_type": "code",
   "execution_count": null,
   "metadata": {},
   "outputs": [],
   "source": [
    "col_2 = col.fillna(col.mode()[0])\n",
    "show_column(col_2)"
   ]
  },
  {
   "cell_type": "markdown",
   "metadata": {},
   "source": [
    "### 处理缺失数值数据\n",
    "\n",
    "定义函数`show_plot(col)`和`show_describe(col)`来展示数据的信息。"
   ]
  },
  {
   "cell_type": "code",
   "execution_count": null,
   "metadata": {},
   "outputs": [],
   "source": [
    "def show_plot(col):\n",
    "    plt.hist(col, 20)\n",
    "    plt.title('bar')\n",
    "    plt.show()\n",
    "    \n",
    "    col = (col - col.mean()) / col.std()\n",
    "    fig = sm.qqplot(col, line='45')\n",
    "    plt.title('q-q plot')\n",
    "    plt.show()\n",
    "    \n",
    "def show_describe(col):\n",
    "    print(col.describe())"
   ]
  },
  {
   "cell_type": "markdown",
   "metadata": {},
   "source": [
    "**price**列中共有129971个数据，其中8996个数据为空数据。"
   ]
  },
  {
   "cell_type": "code",
   "execution_count": null,
   "metadata": {},
   "outputs": [],
   "source": [
    "col_name = 'price'\n",
    "col = df[col_name]\n",
    "\n",
    "print('colomn:', col_name)\n",
    "print('total:', len(col))\n",
    "print('nan:', col.isna().sum())"
   ]
  },
  {
   "cell_type": "markdown",
   "metadata": {},
   "source": [
    "去除**price**列中的空数据，展示如下。"
   ]
  },
  {
   "cell_type": "code",
   "execution_count": null,
   "metadata": {},
   "outputs": [],
   "source": [
    "col_1 = col.dropna()\n",
    "show_describe(col_1)\n",
    "show_plot(col_1)"
   ]
  },
  {
   "cell_type": "markdown",
   "metadata": {},
   "source": [
    "将**price**列中的空数据用出现频率最高的数替代，展示如下。"
   ]
  },
  {
   "cell_type": "code",
   "execution_count": null,
   "metadata": {
    "scrolled": false
   },
   "outputs": [],
   "source": [
    "col_2 = col.fillna(col.mode()[0])\n",
    "show_describe(col_2)\n",
    "show_plot(col_2)"
   ]
  },
  {
   "cell_type": "markdown",
   "metadata": {},
   "source": [
    "# 2. 数据集2：MLB Pitch Data 2015-2018\n",
    "\n",
    "数据集主页：<https://www.kaggle.com/pschale/mlb-pitch-data-20152018#atbats.csv>"
   ]
  },
  {
   "cell_type": "markdown",
   "metadata": {},
   "source": [
    "**加载数据**"
   ]
  },
  {
   "cell_type": "code",
   "execution_count": 24,
   "metadata": {},
   "outputs": [],
   "source": [
    "df = pd.read_csv('atbats.csv')"
   ]
  },
  {
   "cell_type": "markdown",
   "metadata": {},
   "source": [
    "## 2.1 数据摘要\n",
    "\n",
    "包括“数据信息”、“缺失值统计”、“数值数据摘要”、“标称数据摘要”共4部分。"
   ]
  },
  {
   "cell_type": "markdown",
   "metadata": {},
   "source": [
    "### 数据信息\n",
    "\n",
    "数据集中共有11列，740389行。其中有7列是数值属性，3列是标称属性，1列是boolean属性。"
   ]
  },
  {
   "cell_type": "code",
   "execution_count": 25,
   "metadata": {},
   "outputs": [
    {
     "name": "stdout",
     "output_type": "stream",
     "text": [
      "11 columns\n",
      "740389 rows\n",
      "\n",
      "int64     7\n",
      "object    3\n",
      "bool      1\n",
      "dtype: int64\n"
     ]
    }
   ],
   "source": [
    "print('%d columns' % len(df.columns))\n",
    "print('%d rows' % len(df.index))\n",
    "print()\n",
    "print(df.dtypes.value_counts())"
   ]
  },
  {
   "cell_type": "markdown",
   "metadata": {},
   "source": [
    "数据集中的前5行展示如下。"
   ]
  },
  {
   "cell_type": "code",
   "execution_count": 26,
   "metadata": {},
   "outputs": [
    {
     "data": {
      "text/html": [
       "<div>\n",
       "<style scoped>\n",
       "    .dataframe tbody tr th:only-of-type {\n",
       "        vertical-align: middle;\n",
       "    }\n",
       "\n",
       "    .dataframe tbody tr th {\n",
       "        vertical-align: top;\n",
       "    }\n",
       "\n",
       "    .dataframe thead th {\n",
       "        text-align: right;\n",
       "    }\n",
       "</style>\n",
       "<table border=\"1\" class=\"dataframe\">\n",
       "  <thead>\n",
       "    <tr style=\"text-align: right;\">\n",
       "      <th></th>\n",
       "      <th>ab_id</th>\n",
       "      <th>batter_id</th>\n",
       "      <th>event</th>\n",
       "      <th>g_id</th>\n",
       "      <th>inning</th>\n",
       "      <th>o</th>\n",
       "      <th>p_score</th>\n",
       "      <th>p_throws</th>\n",
       "      <th>pitcher_id</th>\n",
       "      <th>stand</th>\n",
       "      <th>top</th>\n",
       "    </tr>\n",
       "  </thead>\n",
       "  <tbody>\n",
       "    <tr>\n",
       "      <th>0</th>\n",
       "      <td>2015000001</td>\n",
       "      <td>572761</td>\n",
       "      <td>Groundout</td>\n",
       "      <td>201500001</td>\n",
       "      <td>1</td>\n",
       "      <td>1</td>\n",
       "      <td>0</td>\n",
       "      <td>L</td>\n",
       "      <td>452657</td>\n",
       "      <td>L</td>\n",
       "      <td>True</td>\n",
       "    </tr>\n",
       "    <tr>\n",
       "      <th>1</th>\n",
       "      <td>2015000002</td>\n",
       "      <td>518792</td>\n",
       "      <td>Double</td>\n",
       "      <td>201500001</td>\n",
       "      <td>1</td>\n",
       "      <td>1</td>\n",
       "      <td>0</td>\n",
       "      <td>L</td>\n",
       "      <td>452657</td>\n",
       "      <td>L</td>\n",
       "      <td>True</td>\n",
       "    </tr>\n",
       "    <tr>\n",
       "      <th>2</th>\n",
       "      <td>2015000003</td>\n",
       "      <td>407812</td>\n",
       "      <td>Single</td>\n",
       "      <td>201500001</td>\n",
       "      <td>1</td>\n",
       "      <td>1</td>\n",
       "      <td>0</td>\n",
       "      <td>L</td>\n",
       "      <td>452657</td>\n",
       "      <td>R</td>\n",
       "      <td>True</td>\n",
       "    </tr>\n",
       "    <tr>\n",
       "      <th>3</th>\n",
       "      <td>2015000004</td>\n",
       "      <td>425509</td>\n",
       "      <td>Strikeout</td>\n",
       "      <td>201500001</td>\n",
       "      <td>1</td>\n",
       "      <td>2</td>\n",
       "      <td>0</td>\n",
       "      <td>L</td>\n",
       "      <td>452657</td>\n",
       "      <td>R</td>\n",
       "      <td>True</td>\n",
       "    </tr>\n",
       "    <tr>\n",
       "      <th>4</th>\n",
       "      <td>2015000005</td>\n",
       "      <td>571431</td>\n",
       "      <td>Strikeout</td>\n",
       "      <td>201500001</td>\n",
       "      <td>1</td>\n",
       "      <td>3</td>\n",
       "      <td>0</td>\n",
       "      <td>L</td>\n",
       "      <td>452657</td>\n",
       "      <td>L</td>\n",
       "      <td>True</td>\n",
       "    </tr>\n",
       "  </tbody>\n",
       "</table>\n",
       "</div>"
      ],
      "text/plain": [
       "        ab_id  batter_id      event       g_id  inning  o  p_score p_throws  \\\n",
       "0  2015000001     572761  Groundout  201500001       1  1        0        L   \n",
       "1  2015000002     518792     Double  201500001       1  1        0        L   \n",
       "2  2015000003     407812     Single  201500001       1  1        0        L   \n",
       "3  2015000004     425509  Strikeout  201500001       1  2        0        L   \n",
       "4  2015000005     571431  Strikeout  201500001       1  3        0        L   \n",
       "\n",
       "   pitcher_id stand   top  \n",
       "0      452657     L  True  \n",
       "1      452657     L  True  \n",
       "2      452657     R  True  \n",
       "3      452657     R  True  \n",
       "4      452657     L  True  "
      ]
     },
     "execution_count": 26,
     "metadata": {},
     "output_type": "execute_result"
    }
   ],
   "source": [
    "df.head()"
   ]
  },
  {
   "cell_type": "markdown",
   "metadata": {},
   "source": [
    "### 缺失值统计\n",
    "\n",
    "统计每一列中的缺失值数量如下。本数据集中没有缺失值。"
   ]
  },
  {
   "cell_type": "code",
   "execution_count": 27,
   "metadata": {},
   "outputs": [
    {
     "data": {
      "text/plain": [
       "ab_id         0\n",
       "batter_id     0\n",
       "event         0\n",
       "g_id          0\n",
       "inning        0\n",
       "o             0\n",
       "p_score       0\n",
       "p_throws      0\n",
       "pitcher_id    0\n",
       "stand         0\n",
       "top           0\n",
       "dtype: int64"
      ]
     },
     "execution_count": 27,
     "metadata": {},
     "output_type": "execute_result"
    }
   ],
   "source": [
    "df.isna().sum()"
   ]
  },
  {
   "cell_type": "markdown",
   "metadata": {},
   "source": [
    "### 数值数据摘要\n",
    "\n",
    "统计7个数值属性列的数据数量，平均值，标准差，最小值，最大值，第1四分位点，中位数，第3四分位点信息如下。"
   ]
  },
  {
   "cell_type": "code",
   "execution_count": 28,
   "metadata": {},
   "outputs": [
    {
     "data": {
      "text/html": [
       "<div>\n",
       "<style scoped>\n",
       "    .dataframe tbody tr th:only-of-type {\n",
       "        vertical-align: middle;\n",
       "    }\n",
       "\n",
       "    .dataframe tbody tr th {\n",
       "        vertical-align: top;\n",
       "    }\n",
       "\n",
       "    .dataframe thead th {\n",
       "        text-align: right;\n",
       "    }\n",
       "</style>\n",
       "<table border=\"1\" class=\"dataframe\">\n",
       "  <thead>\n",
       "    <tr style=\"text-align: right;\">\n",
       "      <th></th>\n",
       "      <th>ab_id</th>\n",
       "      <th>batter_id</th>\n",
       "      <th>g_id</th>\n",
       "      <th>inning</th>\n",
       "      <th>o</th>\n",
       "      <th>p_score</th>\n",
       "      <th>pitcher_id</th>\n",
       "    </tr>\n",
       "  </thead>\n",
       "  <tbody>\n",
       "    <tr>\n",
       "      <th>count</th>\n",
       "      <td>7.403890e+05</td>\n",
       "      <td>740389.000000</td>\n",
       "      <td>7.403890e+05</td>\n",
       "      <td>740389.000000</td>\n",
       "      <td>740389.000000</td>\n",
       "      <td>740389.000000</td>\n",
       "      <td>740389.000000</td>\n",
       "    </tr>\n",
       "    <tr>\n",
       "      <th>mean</th>\n",
       "      <td>2.016596e+09</td>\n",
       "      <td>520222.971504</td>\n",
       "      <td>2.016516e+08</td>\n",
       "      <td>5.008161</td>\n",
       "      <td>1.676713</td>\n",
       "      <td>2.286258</td>\n",
       "      <td>526829.729136</td>\n",
       "    </tr>\n",
       "    <tr>\n",
       "      <th>std</th>\n",
       "      <td>1.118980e+06</td>\n",
       "      <td>81257.093703</td>\n",
       "      <td>1.117423e+05</td>\n",
       "      <td>2.656350</td>\n",
       "      <td>0.954318</td>\n",
       "      <td>2.630178</td>\n",
       "      <td>78213.760533</td>\n",
       "    </tr>\n",
       "    <tr>\n",
       "      <th>min</th>\n",
       "      <td>2.015000e+09</td>\n",
       "      <td>112526.000000</td>\n",
       "      <td>2.015000e+08</td>\n",
       "      <td>1.000000</td>\n",
       "      <td>0.000000</td>\n",
       "      <td>0.000000</td>\n",
       "      <td>112526.000000</td>\n",
       "    </tr>\n",
       "    <tr>\n",
       "      <th>25%</th>\n",
       "      <td>2.016001e+09</td>\n",
       "      <td>457759.000000</td>\n",
       "      <td>2.016000e+08</td>\n",
       "      <td>3.000000</td>\n",
       "      <td>1.000000</td>\n",
       "      <td>0.000000</td>\n",
       "      <td>462136.000000</td>\n",
       "    </tr>\n",
       "    <tr>\n",
       "      <th>50%</th>\n",
       "      <td>2.017001e+09</td>\n",
       "      <td>519317.000000</td>\n",
       "      <td>2.017000e+08</td>\n",
       "      <td>5.000000</td>\n",
       "      <td>2.000000</td>\n",
       "      <td>1.000000</td>\n",
       "      <td>534910.000000</td>\n",
       "    </tr>\n",
       "    <tr>\n",
       "      <th>75%</th>\n",
       "      <td>2.018000e+09</td>\n",
       "      <td>592273.000000</td>\n",
       "      <td>2.018000e+08</td>\n",
       "      <td>7.000000</td>\n",
       "      <td>2.000000</td>\n",
       "      <td>4.000000</td>\n",
       "      <td>592836.000000</td>\n",
       "    </tr>\n",
       "    <tr>\n",
       "      <th>max</th>\n",
       "      <td>2.018186e+09</td>\n",
       "      <td>673633.000000</td>\n",
       "      <td>2.018024e+08</td>\n",
       "      <td>19.000000</td>\n",
       "      <td>3.000000</td>\n",
       "      <td>25.000000</td>\n",
       "      <td>673633.000000</td>\n",
       "    </tr>\n",
       "  </tbody>\n",
       "</table>\n",
       "</div>"
      ],
      "text/plain": [
       "              ab_id      batter_id          g_id         inning  \\\n",
       "count  7.403890e+05  740389.000000  7.403890e+05  740389.000000   \n",
       "mean   2.016596e+09  520222.971504  2.016516e+08       5.008161   \n",
       "std    1.118980e+06   81257.093703  1.117423e+05       2.656350   \n",
       "min    2.015000e+09  112526.000000  2.015000e+08       1.000000   \n",
       "25%    2.016001e+09  457759.000000  2.016000e+08       3.000000   \n",
       "50%    2.017001e+09  519317.000000  2.017000e+08       5.000000   \n",
       "75%    2.018000e+09  592273.000000  2.018000e+08       7.000000   \n",
       "max    2.018186e+09  673633.000000  2.018024e+08      19.000000   \n",
       "\n",
       "                   o        p_score     pitcher_id  \n",
       "count  740389.000000  740389.000000  740389.000000  \n",
       "mean        1.676713       2.286258  526829.729136  \n",
       "std         0.954318       2.630178   78213.760533  \n",
       "min         0.000000       0.000000  112526.000000  \n",
       "25%         1.000000       0.000000  462136.000000  \n",
       "50%         2.000000       1.000000  534910.000000  \n",
       "75%         2.000000       4.000000  592836.000000  \n",
       "max         3.000000      25.000000  673633.000000  "
      ]
     },
     "execution_count": 28,
     "metadata": {},
     "output_type": "execute_result"
    }
   ],
   "source": [
    "df.describe()"
   ]
  },
  {
   "cell_type": "markdown",
   "metadata": {},
   "source": [
    "### 标称属性摘要\n",
    "\n",
    "定义`summary_column(col_name)`函数，统计标称属性`col_name`中不同值出现的频数和频率，并展示出现频率最高的前15个值。"
   ]
  },
  {
   "cell_type": "code",
   "execution_count": null,
   "metadata": {},
   "outputs": [],
   "source": [
    "def summary_column(col_name):\n",
    "    col = df[col_name].value_counts()\n",
    "    print('Colunm name:', col_name)\n",
    "    print('%d different values.' % len(col))\n",
    "    print()\n",
    "    col = df[col_name].value_counts()\n",
    "    col_df = col.to_frame()\n",
    "    col_df['frequency'] = col.apply(lambda x: x / len(col))\n",
    "    col_df.rename(columns={'designation': 'counts'}, inplace=True)\n",
    "    print(col_df.iloc[:15])\n",
    "    print('...')\n",
    "    plt.bar(np.arange(15), col.iloc[:15])\n",
    "    plt.title(col_name)\n",
    "    plt.show()"
   ]
  },
  {
   "cell_type": "markdown",
   "metadata": {},
   "source": [
    "统计**event**列如下。"
   ]
  },
  {
   "cell_type": "code",
   "execution_count": 29,
   "metadata": {
    "scrolled": false
   },
   "outputs": [
    {
     "name": "stdout",
     "output_type": "stream",
     "text": [
      "Colunm name: event\n",
      "30 different values.\n",
      "\n",
      "                   event    frequency\n",
      "Strikeout         157128  5237.600000\n",
      "Groundout         134893  4496.433333\n",
      "Single            108794  3626.466667\n",
      "Flyout             80731  2691.033333\n",
      "Walk               56894  1896.466667\n",
      "Lineout            44934  1497.800000\n",
      "Pop Out            34455  1148.500000\n",
      "Double             33157  1105.233333\n",
      "Home Run           22209   740.300000\n",
      "Forceout           15112   503.733333\n",
      "Grounded Into DP   14717   490.566667\n",
      "Hit By Pitch        6938   231.266667\n",
      "Field Error         6390   213.000000\n",
      "Sac Fly             4773   159.100000\n",
      "Sac Bunt            3969   132.300000\n",
      "...\n"
     ]
    },
    {
     "data": {
      "image/png": "[encoded data removed]",
      "text/plain": [
       "<Figure size 432x288 with 1 Axes>"
      ]
     },
     "metadata": {
      "needs_background": "light"
     },
     "output_type": "display_data"
    }
   ],
   "source": [
    "summary_column('event')"
   ]
  },
  {
   "cell_type": "markdown",
   "metadata": {},
   "source": [
    "## 2.2 数据可视化\n",
    "\n",
    "包括“直方图与qq图”、“盒图”共2部分"
   ]
  },
  {
   "cell_type": "markdown",
   "metadata": {},
   "source": [
    "### 直方图与qq图\n",
    "\n",
    "定义函数`distrib(col_name)`，对指定数值属性列`distrib(col_name)`，首先展示其频率分布直方图，然后将其标准化为均值为0，方差为1的分布，与标准正态分布一起绘制qq图。"
   ]
  },
  {
   "cell_type": "code",
   "execution_count": null,
   "metadata": {},
   "outputs": [],
   "source": [
    "def distrib(col_name):\n",
    "    col = df[col_name].dropna()\n",
    "    plt.hist(col, 20)\n",
    "    plt.title(col_name)\n",
    "    plt.show()\n",
    "    \n",
    "    col = (col - col.mean()) / col.std()\n",
    "    fig = sm.qqplot(col, line='45')\n",
    "    plt.title('q-q plot')\n",
    "    plt.show()"
   ]
  },
  {
   "cell_type": "markdown",
   "metadata": {},
   "source": [
    "展示**p_score**列如下。从qq图中可以看出，**p_score**列中的数据不满足正态分布。"
   ]
  },
  {
   "cell_type": "code",
   "execution_count": 30,
   "metadata": {},
   "outputs": [
    {
     "data": {
      "image/png": "[encoded data removed]",
      "text/plain": [
       "<Figure size 432x288 with 1 Axes>"
      ]
     },
     "metadata": {
      "needs_background": "light"
     },
     "output_type": "display_data"
    },
    {
     "data": {
      "image/png": "[encoded data removed]",
      "text/plain": [
       "<Figure size 432x288 with 1 Axes>"
      ]
     },
     "metadata": {
      "needs_background": "light"
     },
     "output_type": "display_data"
    }
   ],
   "source": [
    "distrib('p_score')"
   ]
  },
  {
   "cell_type": "markdown",
   "metadata": {},
   "source": [
    "### 盒图\n",
    "\n",
    "定义函数`boxplot(col_name)`来为指定列绘制盒图。"
   ]
  },
  {
   "cell_type": "code",
   "execution_count": null,
   "metadata": {},
   "outputs": [],
   "source": [
    "def boxplot(col_name):\n",
    "    fig, ax = plt.subplots(figsize=(5, 6))\n",
    "    ax.set_title(col_name)\n",
    "    ax.boxplot(df[col_name].dropna())\n",
    "    plt.show()"
   ]
  },
  {
   "cell_type": "markdown",
   "metadata": {},
   "source": [
    "为**p_score**列绘制盒图如下所示。从盒图中可以看出，**p_score**列中的数据偏向于较小的数值。"
   ]
  },
  {
   "cell_type": "code",
   "execution_count": 31,
   "metadata": {},
   "outputs": [
    {
     "data": {
      "image/png": "[encoded data removed]",
      "text/plain": [
       "<Figure size 360x432 with 1 Axes>"
      ]
     },
     "metadata": {
      "needs_background": "light"
     },
     "output_type": "display_data"
    }
   ],
   "source": [
    "boxplot('p_score')"
   ]
  }
 ],
 "metadata": {
  "kernelspec": {
   "display_name": "Python 3",
   "language": "python",
   "name": "python3"
  },
  "language_info": {
   "codemirror_mode": {
    "name": "ipython",
    "version": 3
   },
   "file_extension": ".py",
   "mimetype": "text/x-python",
   "name": "python",
   "nbconvert_exporter": "python",
   "pygments_lexer": "ipython3",
   "version": "3.7.2"
  }
 },
 "nbformat": 4,
 "nbformat_minor": 2
}
